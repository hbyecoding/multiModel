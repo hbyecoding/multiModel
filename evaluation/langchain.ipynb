{
 "cells": [
  {
   "cell_type": "code",
   "execution_count": null,
   "metadata": {},
   "outputs": [],
   "source": [
    "from langchain_openai import ChatOpenAI"
   ]
  },
  {
   "cell_type": "code",
   "execution_count": null,
   "metadata": {},
   "outputs": [
    {
     "name": "stdout",
     "output_type": "stream",
     "text": [
      "['P', '', '']\n",
      "['P', 'A', '']\n",
      "['P', 'A', 'Y']\n",
      "['P', 'AP', 'Y']\n",
      "['PA', 'AP', 'Y']\n",
      "['PA', 'APL', 'Y']\n",
      "['PA', 'APL', 'YI']\n",
      "['PA', 'APLS', 'YI']\n",
      "['PAH', 'APLS', 'YI']\n",
      "['PAH', 'APLSI', 'YI']\n",
      "['PAH', 'APLSI', 'YIR']\n",
      "['PAH', 'APLSII', 'YIR']\n",
      "['PAHN', 'APLSII', 'YIR']\n",
      "PAHNAPLSIIYIR\n"
     ]
    }
   ],
   "source": [
    "class Solution:\n",
    "    def convert(self, s: str, numRows: int) -> str:\n",
    "        direction = -1\n",
    "        res = [''] * numRows \n",
    "        curr_row = 0\n",
    "        i = 0\n",
    "        if numRows == 1 or numRows >= len(s):\n",
    "            return s\n",
    "        while i < len(s) - 1:\n",
    "            if curr_row == 0 or curr_row == numRows - 1:\n",
    "                direction *= -1\n",
    "            \n",
    "            res[curr_row] += s[i]\n",
    "            print(res)\n",
    "            i += 1\n",
    "            curr_row += direction\n",
    "\n",
    "        return ''.join(res) \n",
    "\n",
    "sol = Solution()\n",
    "# res = sol.convert(\"ABCDEFGHIJKLMNOPQRSTUVWXYZ\", 5)\n",
    "# print(res)\n",
    "res = sol.convert(\"PAYPALISHIRING\", 3)\n",
    "print(res)\n",
    "res = sol.convert(\"PAYPALISHIRING\", 3)\n",
    "print(res)    "
   ]
  },
  {
   "cell_type": "code",
   "execution_count": 10,
   "metadata": {},
   "outputs": [
    {
     "name": "stdout",
     "output_type": "stream",
     "text": [
      "PAHNAPLSIIGYIR\n"
     ]
    }
   ],
   "source": [
    "class Solution:\n",
    "    def convert(self, s: str, numRows: int) -> str:\n",
    "        if numRows == 1 or numRows >= len(s):\n",
    "            return s\n",
    "\n",
    "        direction = -1\n",
    "        res = [''] * numRows  # Initialize a list with empty strings for each row\n",
    "        curr_row = 0\n",
    "        i = 0\n",
    "        while i < len(s):\n",
    "            if curr_row == 0 or curr_row == numRows - 1:\n",
    "                direction *= -1\n",
    "            \n",
    "            res[curr_row] += s[i]\n",
    "            i += 1\n",
    "            curr_row += direction\n",
    "\n",
    "        return ''.join(res)  # Join all rows to form the final string\n",
    "\n",
    "sol = Solution()\n",
    "res = sol.convert(\"PAYPALISHIRING\", 3)\n",
    "print(res)"
   ]
  }
 ],
 "metadata": {
  "kernelspec": {
   "display_name": "new_env",
   "language": "python",
   "name": "python3"
  },
  "language_info": {
   "codemirror_mode": {
    "name": "ipython",
    "version": 3
   },
   "file_extension": ".py",
   "mimetype": "text/x-python",
   "name": "python",
   "nbconvert_exporter": "python",
   "pygments_lexer": "ipython3",
   "version": "3.9.21"
  }
 },
 "nbformat": 4,
 "nbformat_minor": 2
}
