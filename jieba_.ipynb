{
 "cells": [
  {
   "cell_type": "code",
   "execution_count": 2,
   "metadata": {},
   "outputs": [],
   "source": [
    "# encoding=utf-8\n",
    "import jieba\n",
    "\n",
    "jieba.enable_paddle()# 启动paddle模式。 0.40版之后开始支持，早期版本不支持\n",
    "strs=[\"我来到北京清华大学\",\"乒乓球拍卖完了\",\"中国科学技术大学\"]\n",
    "for str in strs:\n",
    "    seg_list = jieba.cut(str,use_paddle=True) # 使用paddle模式\n",
    "    print(\"Paddle Mode: \" + '/'.join(list(seg_list)))\n"
   ]
  },
  {
   "cell_type": "code",
   "execution_count": 3,
   "metadata": {},
   "outputs": [],
   "source": [
    "strs=[\"我来到北京清华大学\",\"乒乓球拍卖完了\",\"中国科学技术大学\"]\n",
    "for str in strs:\n",
    "    seg_list = jieba.cut(str,use_paddle=False) # 使用paddle模式\n",
    "    print(\"Paddle Mode: \" + '/'.join(list(seg_list)))"
   ]
  },
  {
   "cell_type": "code",
   "execution_count": null,
   "metadata": {},
   "outputs": [],
   "source": [
    "\n",
    "\n",
    "seg_list = jieba.cut(\"我来到北京清华大学\", cut_all=True)\n",
    "print(\"Full Mode: \" + \"/ \".join(seg_list))  # 全模式\n",
    "\n",
    "seg_list = jieba.cut(\"我来到北京清华大学\", cut_all=False)\n",
    "print(\"Default Mode: \" + \"/ \".join(seg_list))  # 精确模式\n",
    "\n",
    "seg_list = jieba.cut(\"他来到了网易杭研大厦\")  # 默认是精确模式\n",
    "print(\", \".join(seg_list))\n",
    "\n",
    "seg_list = jieba.cut_for_search(\"小明硕士毕业于中国科学院计算所，后在日本京都大学深造\")  # 搜索引擎模式\n",
    "print(\", \".join(seg_list))"
   ]
  },
  {
   "cell_type": "code",
   "execution_count": null,
   "metadata": {},
   "outputs": [],
   "source": [
    "import os\n",
    "import torch\n",
    "import torch.nn as nn\n",
    "import torch.optim as optim\n",
    "from torchvision import transforms\n",
    "from torch.utils.data import Dataset, DataLoader\n",
    "from PIL import Image\n",
    "import pandas as pd\n",
    "import requests\n",
    "from models.clip_model import CLIPModel\n",
    "\n",
    "# 数据集路径\n",
    "data_dir = 'data/flickr30k'\n",
    "\n",
    "# 设置数据集\n",
    "from data_setup import setup_flickr30k_dataset\n",
    "setup_flickr30k_dataset()\n",
    "\n",
    "# 初始化自定义CLIP模型\n",
    "model = CLIPModel()\n",
    "device = model.device  # 使用模型中已定义的设备\n",
    "preprocess = model.image_transform  # 使用模型中已定义的预处理\n"
   ]
  },
  {
   "cell_type": "code",
   "execution_count": null,
   "metadata": {},
   "outputs": [],
   "source": [
    "\n",
    "# Flick30K Dataset  \n",
    "class Flickr30KDataset(Dataset):  \n",
    "    def __init__(self, root_dir, annotations_file, transform=None):  \n",
    "        self.root_dir = root_dir  \n",
    "        self.annotations = pd.read_csv(annotations_file, sep='\\t')  \n",
    "        self.annotations.columns = [\"image\", \"caption\"]  \n",
    "        self.transform = transform  \n",
    "\n",
    "    def __len__(self):  \n",
    "        return len(self.annotations)  \n",
    "\n",
    "    def __getitem__(self, idx):  \n",
    "        img_path = os.path.join(self.root_dir, self.annotations.iloc[idx, 0])  \n",
    "        image = Image.open(img_path).convert(\"RGB\")  \n",
    "\n",
    "        if self.transform:  \n",
    "            image = self.transform(image)  \n",
    "\n",
    "        caption = self.annotations.iloc[idx, 1]  \n",
    "\n",
    "        return image, caption  \n",
    "\n",
    "# 定义数据集和数据加载器  \n",
    "transform = transforms.Compose([  \n",
    "    transforms.Resize((224, 224)),  \n",
    "    transforms.ToTensor(),  \n",
    "    transforms.Normalize(mean=[0.485, 0.456, 0.406], std=[0.229, 0.224, 0.225])  \n",
    "])  \n",
    "\n",
    "dataset = Flickr30KDataset(root_dir=os.path.join(data_dir, 'flickr30k_images'),   \n",
    "                           annotations_file=os.path.join(data_dir, 'results_20130124.token'),   \n",
    "                           transform=transform)  \n",
    "\n",
    "data_loader = DataLoader(dataset, batch_size=32, shuffle=True, num_workers=4)  "
   ]
  }
 ],
 "metadata": {
  "kernelspec": {
   "display_name": "new_env",
   "language": "python",
   "name": "python3"
  },
  "language_info": {
   "codemirror_mode": {
    "name": "ipython",
    "version": 3
   },
   "file_extension": ".py",
   "mimetype": "text/x-python",
   "name": "python",
   "nbconvert_exporter": "python",
   "pygments_lexer": "ipython3",
   "version": "3.9.21"
  }
 },
 "nbformat": 4,
 "nbformat_minor": 2
}
